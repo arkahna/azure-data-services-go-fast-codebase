{
  "cells": [
    {
      "cell_type": "code",
      "execution_count": 1,
      "metadata": {
        "tags": [
          "parameters"
        ]
      },
      "outputs": [
        {
          "data": {
            "application/vnd.livy.statement-meta+json": {
              "execution_finish_time": "2022-08-01T04:37:41.0238648Z",
              "execution_start_time": "2022-08-01T04:37:40.8656769Z",
              "livy_statement_state": "available",
              "queued_time": "2022-08-01T04:34:49.6083447Z",
              "session_id": "26",
              "session_start_time": "2022-08-01T04:34:49.7599532Z",
              "spark_jobs": null,
              "spark_pool": "arkstgsynspads",
              "state": "finished",
              "statement_id": 2
            },
            "text/plain": [
              "StatementMeta(arkstgsynspads, 26, 2, Finished, Available)"
            ]
          },
          "metadata": {},
          "output_type": "display_data"
        }
      ],
      "source": [
        "TaskObject = \"\""
      ]
    },
    {
      "cell_type": "code",
      "execution_count": 118,
      "metadata": {
        "jupyter": {
          "outputs_hidden": false,
          "source_hidden": false
        },
        "nteract": {
          "transient": {
            "deleting": false
          }
        }
      },
      "outputs": [
        {
          "data": {
            "application/vnd.livy.statement-meta+json": {
              "execution_finish_time": "2022-08-02T04:00:18.0206748Z",
              "execution_start_time": "2022-08-02T04:00:17.8622601Z",
              "livy_statement_state": "available",
              "queued_time": "2022-08-02T04:00:17.7634774Z",
              "session_id": "29",
              "session_start_time": null,
              "spark_jobs": null,
              "spark_pool": "arkstgsynspads",
              "state": "finished",
              "statement_id": 24
            },
            "text/plain": [
              "StatementMeta(arkstgsynspads, 29, 24, Finished, Available)"
            ]
          },
          "metadata": {},
          "output_type": "display_data"
        },
        {
          "name": "stdout",
          "output_type": "stream",
          "text": [
            "Source: abfss://datalakeraw@arkstgdlsadsaqyeadsl.dfs.core.windows.net/samples/userdata1.parquet\n",
            "Schema: abfss://datalakeraw@arkstgdlsadsaqyeadsl.dfs.core.windows.net/samples/userdata.json\n",
            "Target: abfss://datalakeraw@arkstgdlsadsaqyeadsl.dfs.core.windows.net/DF/TestDelta\n",
            "SourceDT: Parquet\n",
            "TargetDT: Delta\n"
          ]
        }
      ],
      "source": [
        "import random\n",
        "import json\n",
        "from pyspark.sql import Row\n",
        "from pyspark.sql.types import *\n",
        "from pyspark.sql.functions import *\n",
        "from datetime import date\n",
        "from datetime import datetime\n",
        "\n",
        "session_id = random.randint(0,1000000)\n",
        "\n",
        "TaskObjectJson = json.loads(TaskObject)\n",
        "Source = TaskObjectJson['Source']['System']['Container'] + \"@\" + TaskObjectJson['Source']['System']['SystemServer'].replace(\"https://\",\"\") + \"/\"\n",
        "Schema = TaskObjectJson['Source']['System']['Container'] + \"@\" + TaskObjectJson['Source']['System']['SystemServer'].replace(\"https://\",\"\") + \"/\"\n",
        "Target = TaskObjectJson['Target']['System']['Container'] + \"@\" + TaskObjectJson['Target']['System']['SystemServer'].replace(\"https://\",\"\") + \"/\"\n",
        "\n",
        "\n",
        "Source = Source + TaskObjectJson['Source']['Instance']['SourceRelativePath'] + \"/\" + TaskObjectJson['Source']['DataFileName']\n",
        "Schema = Schema + TaskObjectJson['Source']['Instance']['SourceRelativePath'] + \"/\" + TaskObjectJson['Source']['SchemaFileName']\n",
        "Target = Target + TaskObjectJson['Target']['Instance']['TargetRelativePath'] + \"/\" + TaskObjectJson['Target']['DataFileName']\n",
        "\n",
        "\n",
        "#remove any double slashes\n",
        "Source = Source.replace('//', '/')\n",
        "Schema = Schema.replace('//', '/')\n",
        "Target = Target.replace('//', '/')\n",
        "\n",
        "#get source and target data types\n",
        "SourceDT = TaskObjectJson['Source']['Type']\n",
        "TargetDT = TaskObjectJson['Target']['Type']\n",
        "\n",
        "#Check if we are adding a ModifiedDate Column, Note -> This is only available when parquet is the SourceDT\n",
        "if(SourceDT == 'Parquet'):\n",
        "    if(TaskObjectJson['TMOptionals']['ModifiedDate'] == 'Enabled'):\n",
        "        AddModifiedDate = True\n",
        "    else:\n",
        "        AddModifiedDate = False\n",
        "else:\n",
        "    AddModifiedDate = False\n",
        "\n",
        "#AddModifiedDate = True\n",
        "#add abfss\n",
        "Source = \"abfss://\" + Source\n",
        "Schema = \"abfss://\" + Schema\n",
        "Target = \"abfss://\" + Target\n",
        "\n",
        "now = datetime.now()\n",
        "\n",
        "Source = Source.replace(\"{yyyy}\", \"%Y\")\n",
        "Source = Source.replace(\"{MM}\", \"%m\")\n",
        "Source = Source.replace(\"{dd}\", \"%d\")\n",
        "Source = Source.replace(\"{hh}\", \"%H\")\n",
        "Source = Source.replace(\"{mm}\", \"%M\")\n",
        "Source = now.strftime(Source)\n",
        "\n",
        "Target = Target.replace(\"{yyyy}\", \"%Y\")\n",
        "Target = Target.replace(\"{MM}\", \"%m\")\n",
        "Target = Target.replace(\"{dd}\", \"%d\")\n",
        "Target = Target.replace(\"{hh}\", \"%H\")\n",
        "Target = Target.replace(\"{mm}\", \"%M\")\n",
        "Target = now.strftime(Target)\n",
        "\n",
        "Schema = Schema.replace(\"{yyyy}\", \"%Y\")\n",
        "Schema = Schema.replace(\"{MM}\", \"%m\")\n",
        "Schema = Schema.replace(\"{dd}\", \"%d\")\n",
        "Schema = Schema.replace(\"{hh}\", \"%H\")\n",
        "Schema = Schema.replace(\"{mm}\", \"%M\")\n",
        "Schema = now.strftime(Schema)\n",
        "\n",
        "print (\"Source: \" + Source)\n",
        "print (\"Schema: \" + Schema)\n",
        "print (\"Target: \" + Target)\n",
        "\n",
        "print (\"SourceDT: \" + SourceDT)\n",
        "print (\"TargetDT: \" + TargetDT)\n"
      ]
    },
    {
      "cell_type": "code",
      "execution_count": null,
      "metadata": {
        "jupyter": {
          "outputs_hidden": false,
          "source_hidden": false
        },
        "nteract": {
          "transient": {
            "deleting": false
          }
        }
      },
      "outputs": [
        {
          "data": {
            "application/vnd.livy.statement-meta+json": {
              "execution_finish_time": "2022-08-02T04:00:26.0013866Z",
              "execution_start_time": "2022-08-02T04:00:24.9514457Z",
              "livy_statement_state": "available",
              "queued_time": "2022-08-02T04:00:24.8511184Z",
              "session_id": "29",
              "session_start_time": null,
              "spark_jobs": null,
              "spark_pool": "arkstgsynspads",
              "state": "finished",
              "statement_id": 25
            },
            "text/plain": [
              "StatementMeta(arkstgsynspads, 29, 25, Finished, Available)"
            ]
          },
          "metadata": {},
          "output_type": "display_data"
        },
        {
          "name": "stdout",
          "output_type": "stream",
          "text": [
            "Schema found - using schema json to find PK\n",
            "id\n",
            "oldData.id = newData.id\n"
          ]
        }
      ],
      "source": [
        "mergeCondition = \"(\"\n",
        "leftAntiCondition = \"(\"\n",
        "\n",
        "primaryKeyOverride = TaskObjectJson['TMOptionals'].get(\"PrimaryKeyOverride\",\"\")\n",
        "if(primaryKeyOverride != \"\"):\n",
        "    primaryKeys = primaryKeyOverride.split(',')\n",
        "    for key in primaryKeys:\n",
        "        key = key.strip()\n",
        "        mergeCondition = mergeCondition + \"(oldData.\" + key + \" = newData.\" + key + \") & \" \n",
        "        leftAntiCondition = leftAntiCondition + \"(df.\" + key + \" == dfDT.\" + key + \") & \"\n",
        "    # get rid of whitespace character and last &\n",
        "    mergeCondition = mergeCondition[:-2] \n",
        "    leftAntiCondition = leftAntiCondition[:-2]\n",
        "    \n",
        "\n",
        "else:\n",
        "    try:\n",
        "        schema = spark.read.load(Schema, format='json', multiLine=True)\n",
        "        #convert it into a list so we can loop it using python rules\n",
        "        schema = schema.collect()\n",
        "        print(\"Schema found - using schema json to find PK\")\n",
        "        #loop through each column to find the primary key column\n",
        "        for col in schema:\n",
        "            if col.PKEY_COLUMN:\n",
        "                print(col.COLUMN_NAME)\n",
        "                primaryKey = col.COLUMN_NAME\n",
        "                leftAntiCondition = leftAntiCondition + \"df.\" + primaryKey + \" == dfDT.\" + primaryKey\n",
        "                mergeCondition = mergeCondition + \"oldData.\" + primaryKey + \" = newData.\" + primaryKey \n",
        "                break\n",
        "    except:\n",
        "        print(\"Schema json not found - assuming source dataframe first column is PK\")\n",
        "        df = spark.read.load(Source, format=SourceDT)\n",
        "        primaryKey = df.columns[0]\n",
        "        leftAntiCondition = leftAntiCondition + \"df.\" + primaryKey + \" == dfDT.\" + primaryKey\n",
        "        mergeCondition = mergeCondition + \"oldData.\" + primaryKey + \" = newData.\" + primaryKey \n",
        "        print(primaryKey)\n",
        "\n",
        "leftAntiCondition = leftAntiCondition + \")\"\n",
        "mergeCondition = mergeCondition + \")\"\n",
        "#set up the merge condition used in the next code block\n",
        "print(mergeCondition)"
      ]
    },
    {
      "cell_type": "code",
      "execution_count": 120,
      "metadata": {
        "jupyter": {
          "outputs_hidden": false,
          "source_hidden": false
        },
        "nteract": {
          "transient": {
            "deleting": false
          }
        }
      },
      "outputs": [
        {
          "data": {
            "application/vnd.livy.statement-meta+json": {
              "execution_finish_time": "2022-08-02T04:00:32.8903046Z",
              "execution_start_time": "2022-08-02T04:00:28.940986Z",
              "livy_statement_state": "available",
              "queued_time": "2022-08-02T04:00:28.8063153Z",
              "session_id": "29",
              "session_start_time": null,
              "spark_jobs": null,
              "spark_pool": "arkstgsynspads",
              "state": "finished",
              "statement_id": 26
            },
            "text/plain": [
              "StatementMeta(arkstgsynspads, 29, 26, Finished, Available)"
            ]
          },
          "metadata": {},
          "output_type": "display_data"
        },
        {
          "name": "stdout",
          "output_type": "stream",
          "text": [
            "Non CDC Source\n",
            "SourceDT = Parquet, TargetDT = Delta.\n",
            "Adding Modified Date column to source dataframe\n",
            "Table does not exist. Creating new Delta Table.\n"
          ]
        }
      ],
      "source": [
        "from delta.tables import *\n",
        "import pandas as pd\n",
        "from pyspark.sql import functions as F\n",
        "if(TaskObjectJson['TMOptionals']['CDCSource'] == 'Enabled'):\n",
        "    print(\"CDC Source\")\n",
        "    df = spark.read.load(Source, format=SourceDT)\n",
        "    #these are our cdc specific columns\n",
        "    cdcCols = [\"__$start_lsn\", \"__$end_lsn\", \"__$seqval\", \"__$update_mask\", \"__$operation\", \"__$command_id\"]\n",
        "    #we are dropping all of the $ / _ as they cause issues with spark SQL functions -> this may be changed to just remove the first 3 chars of each of the cdcCols (__$)\n",
        "    cdcColsToDrop = [\"startlsn\", \"endlsn\", \"seqval\", \"updatemask\", \"operation\", \"commandid\"]\n",
        "    #these are columns we want to convert from binary data types to string as dataframes do not play nice with them currently\n",
        "   #colsToString = [\"__$start_lsn\", \"__$end_lsn\", \"__$seqval\", \"__$update_mask\"]\n",
        "    colsToString = [\"startlsn\", \"endlsn\", \"seqval\", \"updatemask\"]\n",
        "\n",
        "    for col in cdcCols:\n",
        "        new_col = col.replace('_','')\n",
        "        new_col = new_col.replace('$','')\n",
        "        df = df.withColumnRenamed(col, new_col)\n",
        "\n",
        "    for col in colsToString: \n",
        "        try:\n",
        "            df = df.withColumn(col, hex(col))\n",
        "        except:\n",
        "            print(\"Error converting the column \" + col)\n",
        "\n",
        "    #convert to pandas dataframe so we can do more manipulation\n",
        "    pdf = df.toPandas()\n",
        "\n",
        "    #we want to sort by our start lsn and then by the seqval so that we can drop everything except the most recent database change for every unique row\n",
        "    try:\n",
        "        #columns we are sorting by, the LSN and then the sequence value - ensure the latest is at the bottom of the table\n",
        "        pdf = pdf.sort_values(by=[\"startlsn\", \"seqval\"])\n",
        "    except:\n",
        "        print(\"error in finding valid sorting columns - skipping.\")\n",
        "    pdf_dedupe = pdf.drop_duplicates(subset=[primaryKey.COLUMN_NAME], keep='last', inplace=False)\n",
        "\n",
        "    df = spark.createDataFrame(pdf_dedupe)\n",
        "\n",
        "    #operation 1 is equal to delete, the other 3 operations (inserts old and new / upserts) can be done together\n",
        "    dfDeletes = df.filter(\"operation == 1\")\n",
        "    dfUpserts = df.filter(\"operation != 1\")\n",
        "    #We want to sort our columns by our primary key now that we have only the latest actions\n",
        "    dfDeletes = dfDeletes.sort(primaryKey.COLUMN_NAME)\n",
        "    dfUpserts = dfUpserts.sort(primaryKey.COLUMN_NAME)\n",
        "\n",
        "    #drop unwanted columns -> not needed for our delta table as they are cdc specific\n",
        "    for col in cdcColsToDrop:\n",
        "        try:\n",
        "            dfDeletes = dfDeletes.drop(col)\n",
        "            dfUpserts = dfUpserts.drop(col)\n",
        "        except:\n",
        "            print(\"Error dropping the column \" + col)\n",
        "\n",
        "    sql = 'describe detail \"' + Target + '\"'\n",
        "    try:\n",
        "        if (spark.sql(sql).collect()[0].asDict()['format'] == 'delta'):\n",
        "            print(\"Table already exists. Performing Merge\")\n",
        "            olddt = DeltaTable.forPath(spark, Target)  \n",
        "            olddt.alias(\"oldData\").merge(\n",
        "                dfUpserts.alias(\"newData\"),\n",
        "                mergeCondition) \\\n",
        "            .whenMatchedUpdateAll() \\\n",
        "            .whenNotMatchedInsertAll() \\\n",
        "            .execute()\n",
        "        else:\n",
        "            print(\"Table does not exist. No error, creating new Delta Table.\")    \n",
        "            dfUpserts.write.format(\"delta\").save(Target)\n",
        "    except: \n",
        "        print(\"Table does not exist, error thrown. Creating new Delta Table. Note - this error can be that no file is found.\") \n",
        "        dfUpserts.write.format(\"delta\").save(Target)\n",
        "\n",
        "    olddt = DeltaTable.forPath(spark, Target)  \n",
        "    olddt.alias(\"oldData\").merge(\n",
        "    dfDeletes.alias(\"newData\"),\n",
        "    mergeCondition) \\\n",
        "    .whenMatchedDelete() \\\n",
        "    .execute()  \n",
        "\n",
        "else:\n",
        "    print(\"Non CDC Source\")\n",
        "    if(TargetDT == 'Delta'):\n",
        "        print(\"SourceDT = \" + SourceDT + \", TargetDT = Delta.\")\n",
        "        df = spark.read.load(Source, format=SourceDT)\n",
        "        if(SourceDT == 'Parquet' and AddModifiedDate == True):\n",
        "            print(\"Adding Modified Date column to source dataframe\")\n",
        "            df = df.withColumn('ModifiedDate', F.current_timestamp())\n",
        "        #df = df.withColumn('comments', regexp_replace('comments', '1E02', 'yoo'))\n",
        "        df = df.withColumn(\"row_sha2\", F.sha2(F.concat_ws(\"||\", F.array([c for c in df.columns if c not in {'ModifiedDate', 'row_sha2'}])), 256))\n",
        "        sql = 'describe detail \"' + Target + '\"'\n",
        "        try:\n",
        "            if (spark.sql(sql).collect()[0].asDict()['format'] == 'delta'):\n",
        "                print(\"Table already exists. Performing Merge\")\n",
        "                olddt = DeltaTable.forPath(spark, Target)  \n",
        "                dfDT = olddt.toDF()\n",
        "                #display(dfDT)\n",
        "                #We have to separate the inserts and merges into a new dataframe\n",
        "                    #this is so that when the delta merge is executed, only rows that need to be merged or inserted are passed into it (not duplicates)\n",
        "                        #the other way to approach this is to have two delta executes. One for whenMatchedUpdateAll (with the condition that matches the merge)\n",
        "                        #and one with whenMatchedInsertAll (with the corresponding insert condition)\n",
        "                        #Issue is that you cant pass the whenNotMatchedInsertAll a condition that compares the old and new data, can only do a condition against the \n",
        "                        #new data (i.e newData.id > 50)\n",
        "                #leftAntiCondition = \"df.\" + primaryKey + \" == dfDT.\" + primaryKey \n",
        "                leftSemiCondition = \"(\" + leftAntiCondition + \")\" + \" & (df.row_sha2 != dfDT.row_sha2)\"\n",
        "                dfInserts = df.join(dfDT, eval(leftAntiCondition),\"leftanti\")\n",
        "                #display(dfInserts)\n",
        "                dfMerges = df.join(dfDT, eval(leftSemiCondition), \"leftsemi\")\n",
        "                #display(dfMerges)\n",
        "                dfFull = dfInserts.union(dfMerges)\n",
        "                #display(dfFull)\n",
        "                if(dfFull.count() > 0):\n",
        "                print(\"Inserts: \" + dfInserts.count())\n",
        "                print(\"Merges: \" + dfMerges.count())\n",
        "                    olddt.alias(\"oldData\").merge(\n",
        "                        dfFull.alias(\"newData\"),\n",
        "                        mergeCondition) \\\n",
        "                    .whenMatchedUpdateAll() \\\n",
        "                    .whenNotMatchedInsertAll() \\\n",
        "                    .execute()\n",
        "                else:\n",
        "                    print(\"no upsert required as no new rows.\")\n",
        "            else:\n",
        "                print(\"Table does not exist. No error, creating new Delta Table.\")    \n",
        "                df.write.format(\"delta\").save(Target)\n",
        "        except:\n",
        "            print(\"Table does not exist. Error occured, creating new Delta Table.\")    \n",
        "            df.write.format(\"delta\").save(Target)\n",
        "    elif(TargetDT == 'Parquet' and SourceDT == 'Delta'):\n",
        "        print(\"SourceDT = Delta, TargetDT = Parquet.\")\n",
        "        df = DeltaTable.toDF(DeltaTable.forPath(spark, Source))\n",
        "        df.write.format(\"parquet\").mode(\"overwrite\").save(Target) "
      ]
    },
    {
      "cell_type": "code",
      "execution_count": null,
      "metadata": {
        "jupyter": {
          "outputs_hidden": false,
          "source_hidden": false
        },
        "nteract": {
          "transient": {
            "deleting": false
          }
        }
      },
      "outputs": [],
      "source": [
        "def spark_table(targetDB, targetTable, directory):\n",
        "    #we need to make the DB and table lowercase as synapse persistent tables dont identify them as different identities\n",
        "    targetDB = targetDB.lower()\n",
        "    targetTable = targetTable.lower()\n",
        "\n",
        "    #check if the specified DB / table exists - if so only do required actions.\n",
        "    dbList = spark.catalog.listDatabases()\n",
        "    dbExists = False\n",
        "    for db in dbList:\n",
        "        if (db.name == targetDB):\n",
        "            dbExists = True\n",
        "            break\n",
        "    if (dbExists):\n",
        "        print(\"DB Exists\")\n",
        "        tableExists = False\n",
        "        spark.catalog.setCurrentDatabase(targetDB)\n",
        "        tableList = spark.catalog.listTables()\n",
        "        for table in tableList:\n",
        "            if (table.name == targetTable):\n",
        "                tableExists = True\n",
        "                break\n",
        "        if (tableExists):\n",
        "            print(\"Table exists - nothing needed to be done\")\n",
        "            #spark.catalog.refreshTable(targetTable)\n",
        "            #df.write.mode(\"overwrite\").saveAsTable(targetTable)\n",
        "        else:\n",
        "            print(\"Table doesnt exist - creating\")\n",
        "            #spark.catalog.createExternalTable(targetTable, path=SnapshotTarget, source='parquet')\n",
        "            sql_string = \"CREATE TABLE {0}.{1} USING DELTA LOCATION '{2}'\".format(targetDB, targetTable, directory)\n",
        "            spark.sql(sql_string)\n",
        "\n",
        "    else:\n",
        "        print(\"DB Doesnt exist - creating DB and table\")\n",
        "        createDBString = \"CREATE DATABASE \" + targetDB \n",
        "        spark.sql(createDBString)\n",
        "        spark.catalog.setCurrentDatabase(targetDB)\n",
        "        #spark.catalog.createExternalTable(targetTable, path=SnapshotTarget, source='parquet')\n",
        "        #df.write.mode(\"overwrite\").saveAsTable(targetTable)\n",
        "        sql_string = \"CREATE TABLE {0}.{1} USING DELTA LOCATION '{2}'\".format(targetDB, targetTable, directory)\n",
        "        spark.sql(sql_string)"
      ]
    },
    {
      "cell_type": "code",
      "execution_count": 121,
      "metadata": {
        "jupyter": {
          "outputs_hidden": false,
          "source_hidden": false
        },
        "nteract": {
          "transient": {
            "deleting": false
          }
        }
      },
      "outputs": [
        {
          "data": {
            "application/vnd.livy.statement-meta+json": {
              "execution_finish_time": "2022-08-02T04:01:00.7215901Z",
              "execution_start_time": "2022-08-02T04:00:55.4093494Z",
              "livy_statement_state": "available",
              "queued_time": "2022-08-02T04:00:53.0770017Z",
              "session_id": "29",
              "session_start_time": null,
              "spark_jobs": null,
              "spark_pool": "arkstgsynspads",
              "state": "finished",
              "statement_id": 27
            },
            "text/plain": [
              "StatementMeta(arkstgsynspads, 29, 27, Finished, Available)"
            ]
          },
          "metadata": {},
          "output_type": "display_data"
        },
        {
          "name": "stdout",
          "output_type": "stream",
          "text": [
            "Creating Spark Table\n",
            "DB Exists\n",
            "Table exists - nothing needed to be done\n"
          ]
        }
      ],
      "source": [
        "#This checks if the user wants to save the sink as a persistent table\n",
        "if(TaskObjectJson['TMOptionals']['SparkTableCreate'] == 'Enabled'):\n",
        "    print(\"Creating Spark Table\")\n",
        "    #sinkDF = DeltaTable.toDF(DeltaTable.forPath(spark, Target))\n",
        "    targetDB = TaskObjectJson['TMOptionals']['SparkTableDBName']\n",
        "    targetTable = TaskObjectJson['TMOptionals']['SparkTableName']\n",
        "    directory = Target\n",
        "    spark_table(targetDB, targetTable, directory)\n",
        "#below has been changed, now writing directly from dataframe instead of using an external table.\n",
        "\n",
        "    #if the target datatype is parquet then we do not need to create a copy of the data - we can use the recently saved sink target\n",
        "    #if (TargetDT == 'Parquet'):\n",
        "    #   SnapshotTarget = Target\n",
        "    #else:\n",
        "    #    SnapshotTarget = Target + '/'+ TaskObjectJson['TMOptionals']['SparkTableDBName'] + '/' + TaskObjectJson['TMOptionals']['SparkTableName']\n",
        "    #    #we need to update the parquet file - this is not very efficient but there isnt a current better way as delta tables are not supported for persistent tables\n",
        "    #    df.write.format(\"parquet\").mode(\"overwrite\").save(SnapshotTarget)\n",
        "\n",
        "\n",
        "\n",
        "else:\n",
        "    print(\"Skipping Spark Table creation\")\n",
        "\n",
        "#%%sql\n",
        "#CREATE TABLE testdb.dbo.test\n",
        "#USING PARQUET OPTIONS ('path'= 'abfss://datalakeraw@arkstgdlsadsenrzadsl.dfs.core.windows.net/samples/SalesLT.Customer.chunk_2.parquet', 'inferschema'=true);\n",
        "#select * from testdb.dbo.test limit 10\n",
        "\n",
        "    \n",
        "    "
      ]
    },
    {
      "cell_type": "code",
      "execution_count": 7,
      "metadata": {
        "collapsed": false,
        "jupyter": {
          "outputs_hidden": false,
          "source_hidden": false
        },
        "nteract": {
          "transient": {
            "deleting": false
          }
        }
      },
      "outputs": [
        {
          "data": {
            "application/vnd.livy.statement-meta+json": {
              "execution_finish_time": "2022-08-01T04:38:54.0962426Z",
              "execution_start_time": "2022-08-01T04:38:53.9089447Z",
              "livy_statement_state": "available",
              "queued_time": "2022-08-01T04:34:49.66612Z",
              "session_id": "26",
              "session_start_time": null,
              "spark_jobs": null,
              "spark_pool": "arkstgsynspads",
              "state": "finished",
              "statement_id": 8
            },
            "text/plain": [
              "StatementMeta(arkstgsynspads, 26, 8, Finished, Available)"
            ]
          },
          "metadata": {},
          "output_type": "display_data"
        }
      ],
      "source": [
        "#olddt.history().show(20, 1000, False)\n",
        "#display(spark.read.format(\"delta\").load(Target))\n",
        "#spark.sql(\"CREATE TABLE SalesLTCustomer USING DELTA LOCATION '{0}'\".format(TargetFile))"
      ]
    },
    {
      "cell_type": "code",
      "execution_count": 8,
      "metadata": {
        "jupyter": {
          "outputs_hidden": false,
          "source_hidden": false
        },
        "nteract": {
          "transient": {
            "deleting": false
          }
        }
      },
      "outputs": [
        {
          "data": {
            "application/vnd.livy.statement-meta+json": {
              "execution_finish_time": "2022-08-01T04:38:54.3552588Z",
              "execution_start_time": "2022-08-01T04:38:54.19559Z",
              "livy_statement_state": "available",
              "queued_time": "2022-08-01T04:34:49.6765716Z",
              "session_id": "26",
              "session_start_time": null,
              "spark_jobs": null,
              "spark_pool": "arkstgsynspads",
              "state": "finished",
              "statement_id": 9
            },
            "text/plain": [
              "StatementMeta(arkstgsynspads, 26, 9, Finished, Available)"
            ]
          },
          "metadata": {},
          "output_type": "display_data"
        }
      ],
      "source": [
        "## Execute Upsert\n",
        "#(old_deltaTable\n",
        "# .alias(\"oldData\") \n",
        "# .merge(newIncrementalData.alias(\"newData\"), \"oldData.id = newData.id\")\n",
        "# .whenMatchedUpdate(set = {\"name\": col(\"newData.name\")})\n",
        "# .whenNotMatchedInsert(values = {\"id\": col(\"newData.id\"), \"name\":\n",
        "#                                col(\"newData.name\")})\n",
        "# .execute()\n",
        "#)\n",
        "#\n",
        "# Display the records to check if the records are Merged\n",
        "#display(spark.read.format(\"delta\").load(Target))\n",
        "\n",
        "\n",
        "#df2 = spark.read.load(Target, format='delta')\n",
        "#display(df2)\n",
        "#print(type(tdf))\n",
        "#df.printSchema()\n",
        "#df = spark.read.load(Target, format=SourceDT)\n",
        "#display(df)\n",
        "#df = df.drop('row_sha2')\n",
        "#valueWhenTrue = None  \n",
        "##df = df.withColumn(\"comments\", when(df.id == 1,\"Male\").otherwise(df.comments))\n",
        "#df = df.withColumn(\"row_sha2\", F.sha2(F.concat_ws(\"||\", F.array([c for c in df.columns if c not in {'ModifiedDate', 'row_sha2'}])), 256))\n",
        "#display(df)"
      ]
    },
    {
      "cell_type": "code",
      "execution_count": 9,
      "metadata": {
        "jupyter": {
          "outputs_hidden": false,
          "source_hidden": false
        },
        "nteract": {
          "transient": {
            "deleting": false
          }
        }
      },
      "outputs": [
        {
          "data": {
            "application/vnd.livy.statement-meta+json": {
              "execution_finish_time": "2022-08-01T04:38:54.6124955Z",
              "execution_start_time": "2022-08-01T04:38:54.4586529Z",
              "livy_statement_state": "available",
              "queued_time": "2022-08-01T04:34:49.6855571Z",
              "session_id": "26",
              "session_start_time": null,
              "spark_jobs": null,
              "spark_pool": "arkstgsynspads",
              "state": "finished",
              "statement_id": 10
            },
            "text/plain": [
              "StatementMeta(arkstgsynspads, 26, 10, Finished, Available)"
            ]
          },
          "metadata": {},
          "output_type": "display_data"
        }
      ],
      "source": [
        "#olddt.history().show(20, 1000, False)"
      ]
    },
    {
      "cell_type": "code",
      "execution_count": 10,
      "metadata": {
        "jupyter": {
          "outputs_hidden": false,
          "source_hidden": false
        },
        "nteract": {
          "transient": {
            "deleting": false
          }
        }
      },
      "outputs": [
        {
          "data": {
            "application/vnd.livy.statement-meta+json": {
              "execution_finish_time": "2022-08-01T04:38:54.8940469Z",
              "execution_start_time": "2022-08-01T04:38:54.7204828Z",
              "livy_statement_state": "available",
              "queued_time": "2022-08-01T04:34:49.694944Z",
              "session_id": "26",
              "session_start_time": null,
              "spark_jobs": null,
              "spark_pool": "arkstgsynspads",
              "state": "finished",
              "statement_id": 11
            },
            "text/plain": [
              "StatementMeta(arkstgsynspads, 26, 11, Finished, Available)"
            ]
          },
          "metadata": {},
          "output_type": "display_data"
        }
      ],
      "source": [
        "#########################\n",
        "#NOTE -> This is an alternate way of upserting into delta table. Using manual method of getting each column required from the schema / dataframe and then creating a dictionary to use for the upsert.\n",
        "#           Currently not using this however it does work. Would advise to change the script to just create a dictionary and insert that instead of creating a string to convert into a dict.\n",
        "#########################\n",
        "#from delta.tables import *\n",
        "#df = spark.read.load(Source, format='parquet')\n",
        "#updatecols = []\n",
        "#insertcols = []\n",
        "#for col in schema:\n",
        "#    updatecols.append(col.COLUMN_NAME)\n",
        "#\n",
        "#for col in df.dtypes:\n",
        "#    insertcols.append(col[0])\n",
        "#\n",
        "#creating a string to be converted to dictionary \n",
        "#note -> can easily re-write this as just a dictionary if end up using this method.\n",
        "#updatestring = '{'\n",
        "#insertstring = '{'\n",
        "#\n",
        "#Go through each column in the schema to check what needs to be updated\n",
        "#for col in updatecols:\n",
        "#    updatestring = updatestring + '\"' + col + '\": \"newData.' + col +'\", '\n",
        "#updatestring = updatestring[:-2]\n",
        "#updatestring = updatestring + '}'\n",
        "#\n",
        "#Go through the new data to check what columns need to be inserted\n",
        "#for col in insertcols:\n",
        "#    insertstring = insertstring + '\"' + col + '\": \"newData.' + col +'\", '\n",
        "#insertstring = insertstring[:-2]\n",
        "#insertstring = insertstring + '}'\n",
        "#\n",
        "#print(updatestring)\n",
        "#print(insertstring)\n",
        "#\n",
        "#convert to dict\n",
        "#res = json.loads(updatestring)\n",
        "#res2 = json.loads(insertstring)\n",
        "#\n",
        "#sql = 'describe detail \"' + Target + '\"'\n",
        "#try:\n",
        "#    if (spark.sql(sql).collect()[0].asDict()['format'] == 'delta'):\n",
        "#        print(\"Table already exists. Performing Merge\")\n",
        "#        olddt = DeltaTable.forPath(spark, Target)  \n",
        "#        olddt.alias(\"oldData\").merge(\n",
        "#            df.alias(\"newData\"),\n",
        "#            mergeCondition) \\\n",
        "#        .whenMatchedUpdate(set = res) \\\n",
        "#        .whenNotMatchedInsert(values = res2) \\\n",
        "#        .execute()\n",
        "#except:\n",
        "#    print(\"Table does not exist.\")    \n",
        "#    df.write.format(\"delta\").save(Target)"
      ]
    },
    {
      "cell_type": "code",
      "execution_count": 11,
      "metadata": {
        "collapsed": false,
        "jupyter": {
          "outputs_hidden": false,
          "source_hidden": false
        },
        "nteract": {
          "transient": {
            "deleting": false
          }
        }
      },
      "outputs": [
        {
          "data": {
            "application/vnd.livy.statement-meta+json": {
              "execution_finish_time": "2022-08-01T04:38:55.1666058Z",
              "execution_start_time": "2022-08-01T04:38:55.0022119Z",
              "livy_statement_state": "available",
              "queued_time": "2022-08-01T04:34:49.7043212Z",
              "session_id": "26",
              "session_start_time": null,
              "spark_jobs": null,
              "spark_pool": "arkstgsynspads",
              "state": "finished",
              "statement_id": 12
            },
            "text/plain": [
              "StatementMeta(arkstgsynspads, 26, 12, Finished, Available)"
            ]
          },
          "metadata": {},
          "output_type": "display_data"
        }
      ],
      "source": [
        "#from delta.tables import * \n",
        "#import pandas as pd\n",
        "#Source = 'abfss://datalakeraw@arkstgdlsadsenrzadsl.dfs.core.windows.net/samples/SalesLT.Customer.chunk_1.parquet'\n",
        "#Target = 'abfss://datalakeraw@arkstgdlsadsenrzadsl.dfs.core.windows.net/samples/SalesLT_Customer_Delta/SalesLT.Customer'\n",
        "#mergeCondition = \"oldData.\" + \"CustomerID\" + \" = newData.\" + \"CustomerID\"\n",
        "\n",
        "#df = spark.read.load(Source, format='parquet')\n",
        "\n",
        "#these are our cdc specific columns\n",
        "#cdcCols = ['__$start_lsn', '__$end_lsn', '__$seqval', '__$operation', '__$update_mask', '__$command_id']\n",
        "\n",
        "#convert to pandas dataframe so we can do more manipulation\n",
        "#pdf = df.toPandas()\n",
        "#we want to sort by our start lsn and then by the seqval so that we can drop everything except the most recent database change for every unique row\n",
        "#try:\n",
        "    #columns we are sorting by, the LSN and then the sequence value - ensure the latest is at the bottom of the table\n",
        "#    pdf = pdf.sort_values(by=['__$start_lsn', '__$seqval'])\n",
        "#except:\n",
        "#   print(\"error in finding valid sorting columns - skipping.\")\n",
        "\n",
        "#df = pdf.drop_duplicates(subset=['CustomerID'], keep='last', inplace=False)\n",
        "#df_dedupe = pdf.drop_duplicates(subset=[primaryKey.COLUMN_NAME], keep='last', inplace=False)\n",
        "\n",
        "#df = spark.createDataFrame(df)\n",
        "#dfDeletes = df.filter(\"CustomerID < 100\")\n",
        "#dfUpserts = df.filter(\"CustomerID >= 100\")\n",
        "#dfDeletes = df.filter(\"__$operation == 1\")\n",
        "#dfUpserts = df.filter(\"__$operation != 1\")\n",
        "\n",
        "#drop unwanted columns -> not needed for our delta table as they are cdc specific\n",
        "#for col in cdcCols:\n",
        "#    try:\n",
        "#        dfDeletes = dfDeletes.drop(col)\n",
        "#        dfUpserts = dfUpserts.drop(col)\n",
        "#    except:\n",
        "#        print(\"Error dropping the column \" + col)\n",
        "\n",
        "#sql = 'describe detail \"' + Target + '\"'\n",
        "#try:\n",
        "#    if (spark.sql(sql).collect()[0].asDict()['format'] == 'delta'):\n",
        "#        print(\"Table already exists. Performing Merge\")\n",
        "#        olddt = DeltaTable.forPath(spark, Target)  \n",
        "#        olddt.alias(\"oldData\").merge(\n",
        "#            dfUpserts.alias(\"newData\"),\n",
        "#           mergeCondition) \\\n",
        "#        .whenMatchedUpdateAll() \\\n",
        "#        .whenNotMatchedInsertAll() \\\n",
        "#        .execute()\n",
        "#    else:\n",
        "#        print(\"Table does not exist. No error, creating new Delta Table.\")    \n",
        "#       dfUpserts.write.format(\"delta\").save(Target)\n",
        "#except: \n",
        "#    print(\"Table does not exist, error thrown. Creating new Delta Table.\")    \n",
        "#    dfUpserts.write.format(\"delta\").save(Target)\n",
        "\n",
        "#olddt = DeltaTable.forPath(spark, Target)  \n",
        "#olddt.alias(\"oldData\").merge(\n",
        "#dfDeletes.alias(\"newData\"),\n",
        "#mergeCondition) \\\n",
        "#.whenMatchedDelete() \\\n",
        "#.execute()  \n",
        "#display(dfDeletes)\n",
        "\n",
        "#df.write.format(\"delta\").save(Target)\n"
      ]
    },
    {
      "cell_type": "code",
      "execution_count": 12,
      "metadata": {
        "jupyter": {
          "outputs_hidden": false,
          "source_hidden": false
        },
        "nteract": {
          "transient": {
            "deleting": false
          }
        }
      },
      "outputs": [
        {
          "data": {
            "application/vnd.livy.statement-meta+json": {
              "execution_finish_time": "2022-08-01T04:38:55.4301654Z",
              "execution_start_time": "2022-08-01T04:38:55.2687539Z",
              "livy_statement_state": "available",
              "queued_time": "2022-08-01T04:34:49.7132877Z",
              "session_id": "26",
              "session_start_time": null,
              "spark_jobs": null,
              "spark_pool": "arkstgsynspads",
              "state": "finished",
              "statement_id": 13
            },
            "text/plain": [
              "StatementMeta(arkstgsynspads, 26, 13, Finished, Available)"
            ]
          },
          "metadata": {},
          "output_type": "display_data"
        }
      ],
      "source": [
        "#from delta.tables import * \n",
        "#import pandas as pd\n",
        "\n",
        "#df = spark.createDataFrame([\"0x0000019600000178002D\",\"0x0000019600000178002D\",\"0x0000019600000178002D\", \"0x0000019600000178002A\"], \"string\").toDF(\"hex\")\n",
        "#hex2 = ['0x00000194000000A80002', '0x00000A94000000A80002', '0x00000194000000B80004', '0x00000194000000B80000']\n",
        "\n",
        "#pdf = df.toPandas()\n",
        "#pdf['hex2'] = hex2\n",
        "\n",
        "\n",
        "#df = spark.createDataFrame(pdf)\n",
        "#df_dedupe = df.dropDuplicates('hex')\n",
        "#df_dedupe = df.dropDuplicates(primaryKey.COLUMN_NAME)\n",
        "\n",
        "\n",
        "#pdf['hex'] = pdf['hex'].apply(int, base=16)\n",
        "\n",
        "#pdf = pdf.sort_values(by=['hex','hex2'])\n",
        "#show(df_dedupe)"
      ]
    },
    {
      "cell_type": "code",
      "execution_count": null,
      "metadata": {
        "jupyter": {
          "outputs_hidden": false,
          "source_hidden": false
        },
        "nteract": {
          "transient": {
            "deleting": false
          }
        }
      },
      "outputs": [],
      "source": []
    }
  ],
  "metadata": {
    "description": null,
    "kernel_info": {
      "name": "synapse_pyspark"
    },
    "kernelspec": {
      "display_name": "Synapse PySpark",
      "language": "Python",
      "name": "synapse_pyspark"
    },
    "language_info": {
      "name": "python"
    },
    "save_output": true,
    "synapse_widget": {
      "state": {},
      "version": "0.1"
    }
  },
  "nbformat": 4,
  "nbformat_minor": 2
}
